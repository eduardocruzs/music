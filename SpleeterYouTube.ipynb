{
 "cells": [
  {
   "cell_type": "code",
   "execution_count": null,
   "metadata": {},
   "outputs": [],
   "source": [
    "pip install pafy"
   ]
  },
  {
   "cell_type": "code",
   "execution_count": null,
   "metadata": {},
   "outputs": [],
   "source": [
    "pip install youtube-dl"
   ]
  },
  {
   "cell_type": "code",
   "execution_count": 31,
   "metadata": {},
   "outputs": [],
   "source": [
    "import pafy"
   ]
  },
  {
   "cell_type": "code",
   "execution_count": 32,
   "metadata": {},
   "outputs": [],
   "source": [
    "url = \"https://www.youtube.com/watch?v=iwBNAkU9wMk\""
   ]
  },
  {
   "cell_type": "code",
   "execution_count": 33,
   "metadata": {},
   "outputs": [],
   "source": [
    "result = pafy.new(url)"
   ]
  },
  {
   "cell_type": "code",
   "execution_count": 40,
   "metadata": {},
   "outputs": [
    {
     "name": "stdout",
     "output_type": "stream",
     "text": [
      "Title: Luan Santana  - Te vivo - (Acústico Luan Santana) [Áudio Oficial]\n"
     ]
    }
   ],
   "source": [
    "print(f\"Title: {result.title}\")"
   ]
  },
  {
   "cell_type": "code",
   "execution_count": 35,
   "metadata": {},
   "outputs": [
    {
     "name": "stdout",
     "output_type": "stream",
     "text": [
      "audio:webm@133.578k\n"
     ]
    }
   ],
   "source": [
    "best_quality_audio = result.getbestaudio()\n",
    "print(best_quality_audio)"
   ]
  },
  {
   "cell_type": "code",
   "execution_count": 37,
   "metadata": {},
   "outputs": [
    {
     "name": "stdout",
     "output_type": "stream",
     "text": [
      "  3,222,275.0 Bytes [100.00%] received. Rate: [3231 KB/s].  ETA: [0 secs]    \n"
     ]
    }
   ],
   "source": [
    "best_quality_audio.download(filepath=\"luan.webm\")"
   ]
  },
  {
   "cell_type": "code",
   "execution_count": 38,
   "metadata": {},
   "outputs": [
    {
     "name": "stdout",
     "output_type": "stream",
     "text": [
      "INFO:spleeter:File YToutput5\\luan/vocals.wav written succesfully\n",
      "INFO:spleeter:File YToutput5\\luan/piano.wav written succesfully\n",
      "INFO:spleeter:File YToutput5\\luan/bass.wav written succesfully\n",
      "INFO:spleeter:File YToutput5\\luan/drums.wav written succesfully\n",
      "INFO:spleeter:File YToutput5\\luan/other.wav written succesfully\n"
     ]
    }
   ],
   "source": [
    "!spleeter separate -p spleeter:5stems -o YToutput5 luan.webm"
   ]
  },
  {
   "cell_type": "code",
   "execution_count": null,
   "metadata": {},
   "outputs": [],
   "source": []
  }
 ],
 "metadata": {
  "kernelspec": {
   "display_name": "Python 3",
   "language": "python",
   "name": "python3"
  },
  "language_info": {
   "codemirror_mode": {
    "name": "ipython",
    "version": 3
   },
   "file_extension": ".py",
   "mimetype": "text/x-python",
   "name": "python",
   "nbconvert_exporter": "python",
   "pygments_lexer": "ipython3",
   "version": "3.8.5"
  }
 },
 "nbformat": 4,
 "nbformat_minor": 4
}
