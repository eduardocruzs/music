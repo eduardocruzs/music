{
 "cells": [
  {
   "cell_type": "code",
   "execution_count": null,
   "metadata": {},
   "outputs": [],
   "source": [
    "# Instalar e configurar o Spleeter - deezer "
   ]
  },
  {
   "cell_type": "code",
   "execution_count": null,
   "metadata": {},
   "outputs": [],
   "source": [
    "# Depências necessárias \n",
    "# ffmpeg \n",
    "# libsndfile"
   ]
  },
  {
   "cell_type": "code",
   "execution_count": null,
   "metadata": {},
   "outputs": [],
   "source": [
    "conda install -c conda-forge libsndfile"
   ]
  },
  {
   "cell_type": "code",
   "execution_count": null,
   "metadata": {},
   "outputs": [],
   "source": [
    "conda install -c conda-forge ffmpeg"
   ]
  },
  {
   "cell_type": "code",
   "execution_count": null,
   "metadata": {},
   "outputs": [],
   "source": [
    "#Instalando o spleeter"
   ]
  },
  {
   "cell_type": "code",
   "execution_count": 4,
   "metadata": {},
   "outputs": [
    {
     "name": "stdout",
     "output_type": "stream",
     "text": [
      "Collecting spleeter\n",
      "  Using cached spleeter-2.2.1-py3-none-any.whl (50 kB)\n",
      "Collecting typer<0.4.0,>=0.3.2\n",
      "  Using cached typer-0.3.2-py3-none-any.whl (21 kB)\n",
      "Collecting ffmpeg-python==0.2.0\n",
      "  Downloading ffmpeg_python-0.2.0-py3-none-any.whl (25 kB)\n",
      "Collecting norbert==0.2.1\n",
      "  Using cached norbert-0.2.1-py2.py3-none-any.whl (11 kB)\n",
      "Collecting librosa==0.8.0\n",
      "  Using cached librosa-0.8.0.tar.gz (183 kB)\n",
      "Collecting numpy<1.19.0,>=1.16.0\n",
      "  Using cached numpy-1.18.5-cp38-cp38-win_amd64.whl (12.8 MB)\n",
      "Collecting httpx[http2]<0.17.0,>=0.16.1\n",
      "  Downloading httpx-0.16.1-py3-none-any.whl (65 kB)\n",
      "Collecting pandas==1.1.2\n",
      "  Using cached pandas-1.1.2-cp38-cp38-win_amd64.whl (9.6 MB)\n",
      "Collecting tensorflow==2.3.0\n",
      "  Downloading tensorflow-2.3.0-cp38-cp38-win_amd64.whl (342.5 MB)\n",
      "Requirement already satisfied: click<7.2.0,>=7.1.1 in c:\\users\\educr\\anaconda3\\lib\\site-packages (from typer<0.4.0,>=0.3.2->spleeter) (7.1.2)\n",
      "Requirement already satisfied: future in c:\\users\\educr\\anaconda3\\lib\\site-packages (from ffmpeg-python==0.2.0->spleeter) (0.18.2)\n",
      "Requirement already satisfied: scipy in c:\\users\\educr\\anaconda3\\lib\\site-packages (from norbert==0.2.1->spleeter) (1.5.2)\n",
      "Collecting audioread>=2.0.0\n",
      "  Downloading audioread-2.1.9.tar.gz (377 kB)\n",
      "Requirement already satisfied: scikit-learn!=0.19.0,>=0.14.0 in c:\\users\\educr\\anaconda3\\lib\\site-packages (from librosa==0.8.0->spleeter) (0.23.2)\n",
      "Requirement already satisfied: joblib>=0.14 in c:\\users\\educr\\anaconda3\\lib\\site-packages (from librosa==0.8.0->spleeter) (0.17.0)\n",
      "Requirement already satisfied: decorator>=3.0.0 in c:\\users\\educr\\anaconda3\\lib\\site-packages (from librosa==0.8.0->spleeter) (4.4.2)\n",
      "Collecting resampy>=0.2.2\n",
      "  Downloading resampy-0.2.2.tar.gz (323 kB)\n",
      "Requirement already satisfied: numba>=0.43.0 in c:\\users\\educr\\anaconda3\\lib\\site-packages (from librosa==0.8.0->spleeter) (0.51.2)\n",
      "Collecting soundfile>=0.9.0\n",
      "  Downloading SoundFile-0.10.3.post1-py2.py3.cp26.cp27.cp32.cp33.cp34.cp35.cp36.pp27.pp32.pp33-none-win_amd64.whl (689 kB)\n",
      "Collecting pooch>=1.0\n",
      "  Downloading pooch-1.3.0-py3-none-any.whl (51 kB)\n",
      "Collecting httpcore==0.12.*\n",
      "  Downloading httpcore-0.12.3-py3-none-any.whl (55 kB)\n",
      "Requirement already satisfied: certifi in c:\\users\\educr\\anaconda3\\lib\\site-packages (from httpx[http2]<0.17.0,>=0.16.1->spleeter) (2020.6.20)\n",
      "Collecting sniffio\n",
      "  Downloading sniffio-1.2.0-py3-none-any.whl (10 kB)\n",
      "Collecting rfc3986[idna2008]<2,>=1.3\n",
      "  Downloading rfc3986-1.4.0-py2.py3-none-any.whl (31 kB)\n",
      "Collecting h2==3.*; extra == \"http2\"\n",
      "  Downloading h2-3.2.0-py2.py3-none-any.whl (65 kB)\n",
      "Requirement already satisfied: pytz>=2017.2 in c:\\users\\educr\\anaconda3\\lib\\site-packages (from pandas==1.1.2->spleeter) (2020.1)\n",
      "Requirement already satisfied: python-dateutil>=2.7.3 in c:\\users\\educr\\anaconda3\\lib\\site-packages (from pandas==1.1.2->spleeter) (2.8.1)\n",
      "Collecting protobuf>=3.9.2\n",
      "  Downloading protobuf-3.15.6-py2.py3-none-any.whl (173 kB)\n",
      "Requirement already satisfied: wrapt>=1.11.1 in c:\\users\\educr\\anaconda3\\lib\\site-packages (from tensorflow==2.3.0->spleeter) (1.11.2)\n",
      "Requirement already satisfied: h5py<2.11.0,>=2.10.0 in c:\\users\\educr\\anaconda3\\lib\\site-packages (from tensorflow==2.3.0->spleeter) (2.10.0)\n",
      "Collecting opt-einsum>=2.3.2\n",
      "  Downloading opt_einsum-3.3.0-py3-none-any.whl (65 kB)\n",
      "Collecting tensorflow-estimator<2.4.0,>=2.3.0\n",
      "  Downloading tensorflow_estimator-2.3.0-py2.py3-none-any.whl (459 kB)\n",
      "Collecting gast==0.3.3\n",
      "  Downloading gast-0.3.3-py2.py3-none-any.whl (9.7 kB)\n",
      "Collecting absl-py>=0.7.0\n",
      "  Downloading absl_py-0.12.0-py3-none-any.whl (129 kB)\n",
      "Collecting google-pasta>=0.1.8\n",
      "  Downloading google_pasta-0.2.0-py3-none-any.whl (57 kB)\n",
      "Collecting astunparse==1.6.3\n",
      "  Downloading astunparse-1.6.3-py2.py3-none-any.whl (12 kB)\n",
      "Requirement already satisfied: wheel>=0.26 in c:\\users\\educr\\anaconda3\\lib\\site-packages (from tensorflow==2.3.0->spleeter) (0.35.1)\n",
      "Note: you may need to restart the kernel to use updated packages.Requirement already satisfied: six>=1.12.0 in c:\\users\\educr\\anaconda3\\lib\\site-packages (from tensorflow==2.3.0->spleeter) (1.15.0)\n"
     ]
    },
    {
     "name": "stderr",
     "output_type": "stream",
     "text": [
      "ERROR: After October 2020 you may experience errors when installing or updating packages. This is because pip will change the way that it resolves dependency conflicts.\n",
      "\n",
      "We recommend you use --use-feature=2020-resolver to test your packages with the new resolver before it becomes the default.\n",
      "\n",
      "tensorflow 2.3.0 requires scipy==1.4.1, but you'll have scipy 1.5.2 which is incompatible.\n"
     ]
    },
    {
     "name": "stdout",
     "output_type": "stream",
     "text": [
      "\n",
      "Collecting grpcio>=1.8.6\n",
      "  Downloading grpcio-1.36.1-cp38-cp38-win_amd64.whl (3.0 MB)\n",
      "Collecting tensorboard<3,>=2.3.0\n",
      "  Downloading tensorboard-2.4.1-py3-none-any.whl (10.6 MB)\n",
      "Collecting termcolor>=1.1.0\n",
      "  Downloading termcolor-1.1.0.tar.gz (3.9 kB)\n",
      "Collecting keras-preprocessing<1.2,>=1.1.1\n",
      "  Downloading Keras_Preprocessing-1.1.2-py2.py3-none-any.whl (42 kB)\n",
      "Requirement already satisfied: threadpoolctl>=2.0.0 in c:\\users\\educr\\anaconda3\\lib\\site-packages (from scikit-learn!=0.19.0,>=0.14.0->librosa==0.8.0->spleeter) (2.1.0)\n",
      "Requirement already satisfied: llvmlite<0.35,>=0.34.0.dev0 in c:\\users\\educr\\anaconda3\\lib\\site-packages (from numba>=0.43.0->librosa==0.8.0->spleeter) (0.34.0)\n",
      "Requirement already satisfied: setuptools in c:\\users\\educr\\anaconda3\\lib\\site-packages (from numba>=0.43.0->librosa==0.8.0->spleeter) (50.3.1.post20201107)\n",
      "Requirement already satisfied: cffi>=1.0 in c:\\users\\educr\\anaconda3\\lib\\site-packages (from soundfile>=0.9.0->librosa==0.8.0->spleeter) (1.14.3)\n",
      "Collecting appdirs\n",
      "  Downloading appdirs-1.4.4-py2.py3-none-any.whl (9.6 kB)\n",
      "Requirement already satisfied: requests in c:\\users\\educr\\anaconda3\\lib\\site-packages (from pooch>=1.0->librosa==0.8.0->spleeter) (2.24.0)\n",
      "Requirement already satisfied: packaging in c:\\users\\educr\\anaconda3\\lib\\site-packages (from pooch>=1.0->librosa==0.8.0->spleeter) (20.4)\n",
      "Collecting h11==0.*\n",
      "  Downloading h11-0.12.0-py3-none-any.whl (54 kB)\n",
      "Requirement already satisfied: idna; extra == \"idna2008\" in c:\\users\\educr\\anaconda3\\lib\\site-packages (from rfc3986[idna2008]<2,>=1.3->httpx[http2]<0.17.0,>=0.16.1->spleeter) (2.10)\n",
      "Collecting hpack<4,>=3.0\n",
      "  Downloading hpack-3.0.0-py2.py3-none-any.whl (38 kB)\n",
      "Collecting hyperframe<6,>=5.2.0\n",
      "  Downloading hyperframe-5.2.0-py2.py3-none-any.whl (12 kB)\n",
      "Collecting google-auth-oauthlib<0.5,>=0.4.1\n",
      "  Downloading google_auth_oauthlib-0.4.3-py2.py3-none-any.whl (18 kB)\n",
      "Collecting markdown>=2.6.8\n",
      "  Downloading Markdown-3.3.4-py3-none-any.whl (97 kB)\n",
      "Collecting google-auth<2,>=1.6.3\n",
      "  Downloading google_auth-1.27.1-py2.py3-none-any.whl (136 kB)\n",
      "Collecting tensorboard-plugin-wit>=1.6.0\n",
      "  Downloading tensorboard_plugin_wit-1.8.0-py3-none-any.whl (781 kB)\n",
      "Requirement already satisfied: werkzeug>=0.11.15 in c:\\users\\educr\\anaconda3\\lib\\site-packages (from tensorboard<3,>=2.3.0->tensorflow==2.3.0->spleeter) (1.0.1)\n",
      "Requirement already satisfied: pycparser in c:\\users\\educr\\anaconda3\\lib\\site-packages (from cffi>=1.0->soundfile>=0.9.0->librosa==0.8.0->spleeter) (2.20)\n",
      "Requirement already satisfied: urllib3!=1.25.0,!=1.25.1,<1.26,>=1.21.1 in c:\\users\\educr\\anaconda3\\lib\\site-packages (from requests->pooch>=1.0->librosa==0.8.0->spleeter) (1.25.11)\n",
      "Requirement already satisfied: chardet<4,>=3.0.2 in c:\\users\\educr\\anaconda3\\lib\\site-packages (from requests->pooch>=1.0->librosa==0.8.0->spleeter) (3.0.4)\n",
      "Requirement already satisfied: pyparsing>=2.0.2 in c:\\users\\educr\\anaconda3\\lib\\site-packages (from packaging->pooch>=1.0->librosa==0.8.0->spleeter) (2.4.7)\n",
      "Collecting requests-oauthlib>=0.7.0\n",
      "  Downloading requests_oauthlib-1.3.0-py2.py3-none-any.whl (23 kB)\n",
      "Collecting cachetools<5.0,>=2.0.0\n",
      "  Downloading cachetools-4.2.1-py3-none-any.whl (12 kB)\n",
      "Collecting pyasn1-modules>=0.2.1\n",
      "  Downloading pyasn1_modules-0.2.8-py2.py3-none-any.whl (155 kB)\n",
      "Collecting rsa<5,>=3.1.4; python_version >= \"3.6\"\n",
      "  Downloading rsa-4.7.2-py3-none-any.whl (34 kB)\n",
      "Collecting oauthlib>=3.0.0\n",
      "  Downloading oauthlib-3.1.0-py2.py3-none-any.whl (147 kB)\n",
      "Collecting pyasn1<0.5.0,>=0.4.6\n",
      "  Downloading pyasn1-0.4.8-py2.py3-none-any.whl (77 kB)\n",
      "Building wheels for collected packages: librosa, audioread, resampy, termcolor\n",
      "  Building wheel for librosa (setup.py): started\n",
      "  Building wheel for librosa (setup.py): finished with status 'done'\n",
      "  Created wheel for librosa: filename=librosa-0.8.0-py3-none-any.whl size=201381 sha256=5cbfd068c0105aae574dda44e3307d8dd5a6488e439197bcfeafad9e9533359c\n",
      "  Stored in directory: c:\\users\\educr\\appdata\\local\\pip\\cache\\wheels\\aa\\5a\\92\\d52f6f8560ff05a2525e6030a1903412df876714241fb76802\n",
      "  Building wheel for audioread (setup.py): started\n",
      "  Building wheel for audioread (setup.py): finished with status 'done'\n",
      "  Created wheel for audioread: filename=audioread-2.1.9-py3-none-any.whl size=23146 sha256=0518b030dbcd94eb5cb15a284ad3f9847e51af7d44de2b80a245d42aecd9bd6a\n",
      "  Stored in directory: c:\\users\\educr\\appdata\\local\\pip\\cache\\wheels\\49\\5a\\e4\\df590783499a992a88de6c0898991d1167453a3196d0d1eeb7\n",
      "  Building wheel for resampy (setup.py): started\n",
      "  Building wheel for resampy (setup.py): finished with status 'done'\n",
      "  Created wheel for resampy: filename=resampy-0.2.2-py3-none-any.whl size=320724 sha256=df8e78f2558ead56c19bb5f361d1ed02ceeab56ca3d162c5e1d57ef42f6eb14b\n",
      "  Stored in directory: c:\\users\\educr\\appdata\\local\\pip\\cache\\wheels\\6f\\d1\\5d\\f13da53b1dcbc2624ff548456c9ffb526c914f53c12c318bb4\n",
      "  Building wheel for termcolor (setup.py): started\n",
      "  Building wheel for termcolor (setup.py): finished with status 'done'\n",
      "  Created wheel for termcolor: filename=termcolor-1.1.0-py3-none-any.whl size=4835 sha256=3fa6a4dcce8730d2d8ad7f1040d18d873aa894f12518b1ce6522ca7bb66faf9b\n",
      "  Stored in directory: c:\\users\\educr\\appdata\\local\\pip\\cache\\wheels\\a0\\16\\9c\\5473df82468f958445479c59e784896fa24f4a5fc024b0f501\n",
      "Successfully built librosa audioread resampy termcolor\n",
      "Installing collected packages: typer, ffmpeg-python, norbert, audioread, numpy, resampy, soundfile, appdirs, pooch, librosa, h11, sniffio, httpcore, rfc3986, hpack, hyperframe, h2, httpx, pandas, protobuf, opt-einsum, tensorflow-estimator, gast, absl-py, google-pasta, astunparse, grpcio, cachetools, pyasn1, pyasn1-modules, rsa, google-auth, oauthlib, requests-oauthlib, google-auth-oauthlib, markdown, tensorboard-plugin-wit, tensorboard, termcolor, keras-preprocessing, tensorflow, spleeter\n",
      "  Attempting uninstall: numpy\n",
      "    Found existing installation: numpy 1.19.2\n",
      "    Uninstalling numpy-1.19.2:\n",
      "      Successfully uninstalled numpy-1.19.2\n",
      "  Attempting uninstall: pandas\n",
      "    Found existing installation: pandas 1.1.3\n",
      "    Uninstalling pandas-1.1.3:\n",
      "      Successfully uninstalled pandas-1.1.3\n",
      "Successfully installed absl-py-0.12.0 appdirs-1.4.4 astunparse-1.6.3 audioread-2.1.9 cachetools-4.2.1 ffmpeg-python-0.2.0 gast-0.3.3 google-auth-1.27.1 google-auth-oauthlib-0.4.3 google-pasta-0.2.0 grpcio-1.36.1 h11-0.12.0 h2-3.2.0 hpack-3.0.0 httpcore-0.12.3 httpx-0.16.1 hyperframe-5.2.0 keras-preprocessing-1.1.2 librosa-0.8.0 markdown-3.3.4 norbert-0.2.1 numpy-1.18.5 oauthlib-3.1.0 opt-einsum-3.3.0 pandas-1.1.2 pooch-1.3.0 protobuf-3.15.6 pyasn1-0.4.8 pyasn1-modules-0.2.8 requests-oauthlib-1.3.0 resampy-0.2.2 rfc3986-1.4.0 rsa-4.7.2 sniffio-1.2.0 soundfile-0.10.3.post1 spleeter-2.2.1 tensorboard-2.4.1 tensorboard-plugin-wit-1.8.0 tensorflow-2.3.0 tensorflow-estimator-2.3.0 termcolor-1.1.0 typer-0.3.2\n"
     ]
    }
   ],
   "source": [
    "pip install spleeter"
   ]
  },
  {
   "cell_type": "code",
   "execution_count": 8,
   "metadata": {},
   "outputs": [
    {
     "name": "stdout",
     "output_type": "stream",
     "text": [
      "Usage: spleeter [OPTIONS] COMMAND [ARGS]...\n",
      "\n",
      "Options:\n",
      "  --version  Return Spleeter version\n",
      "  --help     Show this message and exit.\n",
      "\n",
      "Commands:\n",
      "  evaluate  Evaluate a model on the musDB test dataset\n",
      "  separate  Separate audio file(s)\n",
      "  train     Train a source separation model\n"
     ]
    }
   ],
   "source": [
    "!spleeter --help"
   ]
  },
  {
   "cell_type": "code",
   "execution_count": 10,
   "metadata": {},
   "outputs": [
    {
     "name": "stdout",
     "output_type": "stream",
     "text": [
      "INFO:spleeter:Downloading model archive https://github.com/deezer/spleeter/releases/download/v1.4.0/2stems.tar.gz\n",
      "INFO:spleeter:Validating archive checksum\n",
      "INFO:spleeter:Extracting downloaded 2stems archive\n",
      "INFO:spleeter:2stems model file(s) extracted\n",
      "INFO:spleeter:File output\\tardedemais/vocals.wav written succesfully\n",
      "INFO:spleeter:File output\\tardedemais/accompaniment.wav written succesfully\n"
     ]
    }
   ],
   "source": [
    "!spleeter separate -p spleeter:2stems -o output tardedemais.webm"
   ]
  },
  {
   "cell_type": "code",
   "execution_count": null,
   "metadata": {},
   "outputs": [],
   "source": []
  }
 ],
 "metadata": {
  "kernelspec": {
   "display_name": "Python 3",
   "language": "python",
   "name": "python3"
  },
  "language_info": {
   "codemirror_mode": {
    "name": "ipython",
    "version": 3
   },
   "file_extension": ".py",
   "mimetype": "text/x-python",
   "name": "python",
   "nbconvert_exporter": "python",
   "pygments_lexer": "ipython3",
   "version": "3.8.5"
  }
 },
 "nbformat": 4,
 "nbformat_minor": 4
}
